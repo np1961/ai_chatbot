{
 "cells": [
  {
   "cell_type": "code",
   "execution_count": null,
   "metadata": {
    "jupyter": {
     "outputs_hidden": false
    }
   },
   "outputs": [],
   "source": []
  },
  {
   "cell_type": "code",
   "execution_count": null,
   "metadata": {
    "jupyter": {
     "outputs_hidden": false
    }
   },
   "outputs": [],
   "source": []
  },
  {
   "cell_type": "code",
   "execution_count": null,
   "metadata": {
    "jupyter": {
     "outputs_hidden": false
    }
   },
   "outputs": [],
   "source": []
  },
  {
   "cell_type": "code",
   "execution_count": 1,
   "metadata": {
    "ExecuteTime": {
     "end_time": "2024-03-30T12:18:31.606551Z",
     "start_time": "2024-03-30T12:18:28.878031Z"
    },
    "jupyter": {
     "outputs_hidden": false
    }
   },
   "outputs": [
    {
     "ename": "ModuleNotFoundError",
     "evalue": "No module named 'openai'",
     "output_type": "error",
     "traceback": [
      "\u001b[0;31m---------------------------------------------------------------------------\u001b[0m",
      "\u001b[0;31mModuleNotFoundError\u001b[0m                       Traceback (most recent call last)",
      "Cell \u001b[0;32mIn[1], line 4\u001b[0m\n\u001b[1;32m      2\u001b[0m \u001b[38;5;28;01mimport\u001b[39;00m \u001b[38;5;21;01mpandas\u001b[39;00m \u001b[38;5;28;01mas\u001b[39;00m \u001b[38;5;21;01mpd\u001b[39;00m\n\u001b[1;32m      3\u001b[0m \u001b[38;5;28;01mfrom\u001b[39;00m \u001b[38;5;21;01mwarnings\u001b[39;00m \u001b[38;5;28;01mimport\u001b[39;00m filterwarnings\n\u001b[0;32m----> 4\u001b[0m \u001b[38;5;28;01mfrom\u001b[39;00m \u001b[38;5;21;01mopenai\u001b[39;00m \u001b[38;5;28;01mimport\u001b[39;00m OpenAI\n\u001b[1;32m      5\u001b[0m filterwarnings(action\u001b[38;5;241m=\u001b[39m\u001b[38;5;124m'\u001b[39m\u001b[38;5;124mignore\u001b[39m\u001b[38;5;124m'\u001b[39m)\n\u001b[1;32m      6\u001b[0m \u001b[38;5;28;01mfrom\u001b[39;00m \u001b[38;5;21;01mconfig\u001b[39;00m \u001b[38;5;28;01mimport\u001b[39;00m constants\n",
      "\u001b[0;31mModuleNotFoundError\u001b[0m: No module named 'openai'"
     ]
    }
   ],
   "source": [
    "import numpy as np\n",
    "import pandas as pd\n",
    "from warnings import filterwarnings\n",
    "from openai import OpenAI\n",
    "filterwarnings(action='ignore')\n",
    "from config import constants\n",
    "\n",
    "class StatusAssigner:\n",
    "    @classmethod\n",
    "    def bad_status(cls, message):\n",
    "        return {\n",
    "            'status': 'error',\n",
    "            'error_reason': message\n",
    "    }\n",
    "    @classmethod\n",
    "    def good_status(cls):\n",
    "        return {\n",
    "            'status': 'accepted',\n",
    "    }\n",
    "\n",
    "\n",
    "\n",
    "\n",
    "\n",
    "\n",
    "\n",
    "\n",
    "class EMBEDDING(StatusAssigner):\n",
    "    def __init__(self, api_key=constants.API_KEY):\n",
    "        self.client = OpenAI(api_key=api_key)\n",
    "        self.embedding_model = \"text-embedding-3-small\"\n",
    "        self.df = None\n",
    "\n",
    "    def _cosine_similarity(self, a, b):\n",
    "        return np.dot(a, b) / (np.linalg.norm(a) * np.linalg.norm(b))\n",
    "\n",
    "    def _get_embedding(self, text, model):\n",
    "        return self.client.embeddings.create(input=[text], model=model).data[0].embedding\n",
    "\n",
    "    def search_reviews(self, input_question, n=3, pprint=True):\n",
    "        embedding = self._get_embedding(input_question, model='text-embedding-3-small')\n",
    "        self.df['similarities'] = self.df['embedding'].apply(lambda x: self._cosine_similarity(x, embedding))\n",
    "\n",
    "        res = self.good_status()\n",
    "        res['data'] = self.df.sort_values('similarities', ascending=False).head(n)\n",
    "        return res\n",
    "\n",
    "    def load_embeddings(self, amount=10, most_similar_n=3, file_path='/home/np_1961/Downloads/BankFAQs.csv'):\n",
    "        self.df = pd.read_csv(self.file_path).head(amount)\n",
    "        self.df[\"embedding\"] = self.df['Question'].apply(lambda x: self._get_embedding(x, model=self.embedding_model))\n",
    "        self.df.to_csv('embeddings.csv')\n",
    "        res = self.good_status()\n",
    "        return res\n",
    "\n",
    "    def ask_question(self, input_question):\n",
    "        if self.df is None:\n",
    "            return self.bad_status(message=\"first load the embeddings then call this request\")\n",
    "\n",
    "        res = self.good_status()\n",
    "        res['answer'] = self.search_reviews(input_question)['Answer'].iloc[0]\n",
    "        return res\n",
    "\n",
    "\n",
    "\n",
    "\n",
    "\n",
    "\n",
    "\n",
    "class LLM(StatusAssigner):\n",
    "    def __init__(self, api_key=constants.API_KEY):\n",
    "        self.client=OpenAI(api_key=api_key)\n",
    "\n",
    "\n",
    "\n",
    "    def send_to_model(self,question, file_contents='', prompt='', model=\"gpt-3.5-turbo\"):\n",
    "        completion = self.client.chat.completions.create(\n",
    "            model=model,\n",
    "            messages=[\n",
    "                {\"role\": \"system\", \"content\": prompt},\n",
    "                {\"role\": \"user\", \"content\": file_contents},\n",
    "                {\"role\": \"user\", \"content\": question}\n",
    "            ]\n",
    "        )\n",
    "\n",
    "        return completion.choices[0].message.content.splitlines()\n",
    "\n",
    "\n",
    "\n",
    "\n",
    "\n",
    "class RAG(StatusAssigner):\n",
    "    def __init__(self, file_path):\n",
    "        self.embedding=EMBEDDING(file_path=file_path)\n",
    "        self.lmm=LLM()\n",
    "\n",
    "\n",
    "\n",
    "\n",
    "\n"
   ]
  },
  {
   "cell_type": "code",
   "execution_count": null,
   "metadata": {
    "jupyter": {
     "outputs_hidden": false
    }
   },
   "outputs": [],
   "source": []
  },
  {
   "cell_type": "code",
   "execution_count": null,
   "metadata": {
    "jupyter": {
     "outputs_hidden": false
    }
   },
   "outputs": [],
   "source": []
  },
  {
   "cell_type": "code",
   "execution_count": null,
   "metadata": {
    "jupyter": {
     "outputs_hidden": false
    }
   },
   "outputs": [],
   "source": []
  },
  {
   "cell_type": "code",
   "execution_count": 3,
   "metadata": {
    "ExecuteTime": {
     "end_time": "2024-03-30T12:18:34.522560Z",
     "start_time": "2024-03-30T12:18:34.402945Z"
    },
    "jupyter": {
     "outputs_hidden": false
    }
   },
   "outputs": [],
   "source": [
    "res=pd.read_csv('res.csv')"
   ]
  },
  {
   "cell_type": "code",
   "execution_count": 4,
   "metadata": {
    "ExecuteTime": {
     "end_time": "2024-03-30T12:18:34.719244Z",
     "start_time": "2024-03-30T12:18:34.684609Z"
    },
    "jupyter": {
     "outputs_hidden": false
    }
   },
   "outputs": [
    {
     "data": {
      "text/html": [
       "<div>\n",
       "<style scoped>\n",
       "    .dataframe tbody tr th:only-of-type {\n",
       "        vertical-align: middle;\n",
       "    }\n",
       "\n",
       "    .dataframe tbody tr th {\n",
       "        vertical-align: top;\n",
       "    }\n",
       "\n",
       "    .dataframe thead th {\n",
       "        text-align: right;\n",
       "    }\n",
       "</style>\n",
       "<table border=\"1\" class=\"dataframe\">\n",
       "  <thead>\n",
       "    <tr style=\"text-align: right;\">\n",
       "      <th></th>\n",
       "      <th>Unnamed: 0</th>\n",
       "      <th>Question</th>\n",
       "      <th>Answer</th>\n",
       "      <th>Class</th>\n",
       "      <th>embedding</th>\n",
       "      <th>similarities</th>\n",
       "    </tr>\n",
       "  </thead>\n",
       "  <tbody>\n",
       "    <tr>\n",
       "      <th>0</th>\n",
       "      <td>0</td>\n",
       "      <td>Do I need to enter ‘#’ after keying in my Card...</td>\n",
       "      <td>Please listen to the recorded message and foll...</td>\n",
       "      <td>security</td>\n",
       "      <td>[0.009293698705732822, -0.03084607608616352, 0...</td>\n",
       "      <td>0.410012</td>\n",
       "    </tr>\n",
       "    <tr>\n",
       "      <th>1</th>\n",
       "      <td>1</td>\n",
       "      <td>What details are required when I want to perfo...</td>\n",
       "      <td>To perform a secure IVR transaction, you will ...</td>\n",
       "      <td>security</td>\n",
       "      <td>[-0.00970387365669012, -0.018280930817127228, ...</td>\n",
       "      <td>0.659425</td>\n",
       "    </tr>\n",
       "    <tr>\n",
       "      <th>2</th>\n",
       "      <td>2</td>\n",
       "      <td>How should I get the IVR Password  if I hold a...</td>\n",
       "      <td>An IVR password can be requested only from the...</td>\n",
       "      <td>security</td>\n",
       "      <td>[-0.01753336936235428, -0.038931239396333694, ...</td>\n",
       "      <td>0.711325</td>\n",
       "    </tr>\n",
       "    <tr>\n",
       "      <th>3</th>\n",
       "      <td>3</td>\n",
       "      <td>How do I register my Mobile number for IVR Pas...</td>\n",
       "      <td>Please call our Customer Service Centre and en...</td>\n",
       "      <td>security</td>\n",
       "      <td>[-0.0282317902892828, 0.01619480364024639, 0.0...</td>\n",
       "      <td>0.729861</td>\n",
       "    </tr>\n",
       "    <tr>\n",
       "      <th>4</th>\n",
       "      <td>4</td>\n",
       "      <td>How can I obtain an IVR Password</td>\n",
       "      <td>By Sending SMS request: Send an SMS 'PWD&lt;space...</td>\n",
       "      <td>security</td>\n",
       "      <td>[-0.025099100545048714, -0.007126737851649523,...</td>\n",
       "      <td>0.867408</td>\n",
       "    </tr>\n",
       "    <tr>\n",
       "      <th>5</th>\n",
       "      <td>5</td>\n",
       "      <td>Can I use the same IVR Password  to perform mu...</td>\n",
       "      <td>No, each IVR password can be used only for a m...</td>\n",
       "      <td>security</td>\n",
       "      <td>[0.0007861416088417172, -0.03542797267436981, ...</td>\n",
       "      <td>0.697354</td>\n",
       "    </tr>\n",
       "    <tr>\n",
       "      <th>6</th>\n",
       "      <td>6</td>\n",
       "      <td>Can I generate multiple IVR Passwords</td>\n",
       "      <td>No, only one IVR password can be generated at ...</td>\n",
       "      <td>security</td>\n",
       "      <td>[0.004773120861500502, -0.030521269887685776, ...</td>\n",
       "      <td>0.718223</td>\n",
       "    </tr>\n",
       "    <tr>\n",
       "      <th>7</th>\n",
       "      <td>7</td>\n",
       "      <td>How do I register for IVR password</td>\n",
       "      <td>There is no registration process. However you ...</td>\n",
       "      <td>security</td>\n",
       "      <td>[-0.017454277724027634, -0.004589803051203489,...</td>\n",
       "      <td>0.807110</td>\n",
       "    </tr>\n",
       "    <tr>\n",
       "      <th>8</th>\n",
       "      <td>8</td>\n",
       "      <td>What is IVR Password and how does it work</td>\n",
       "      <td>To make telephonic (IVR) transactions more sec...</td>\n",
       "      <td>security</td>\n",
       "      <td>[-0.026408161967992783, -0.007872556336224079,...</td>\n",
       "      <td>0.810158</td>\n",
       "    </tr>\n",
       "    <tr>\n",
       "      <th>9</th>\n",
       "      <td>9</td>\n",
       "      <td>In how much time will the IVR Password be deli...</td>\n",
       "      <td>IVR 3D Secure password is delivered instantly....</td>\n",
       "      <td>security</td>\n",
       "      <td>[0.02888462133705616, 0.015391342341899872, 0....</td>\n",
       "      <td>0.647869</td>\n",
       "    </tr>\n",
       "  </tbody>\n",
       "</table>\n",
       "</div>"
      ],
      "text/plain": [
       "   Unnamed: 0                                           Question  \\\n",
       "0           0  Do I need to enter ‘#’ after keying in my Card...   \n",
       "1           1  What details are required when I want to perfo...   \n",
       "2           2  How should I get the IVR Password  if I hold a...   \n",
       "3           3  How do I register my Mobile number for IVR Pas...   \n",
       "4           4                  How can I obtain an IVR Password    \n",
       "5           5  Can I use the same IVR Password  to perform mu...   \n",
       "6           6              Can I generate multiple IVR Passwords   \n",
       "7           7                 How do I register for IVR password   \n",
       "8           8          What is IVR Password and how does it work   \n",
       "9           9  In how much time will the IVR Password be deli...   \n",
       "\n",
       "                                              Answer     Class  \\\n",
       "0  Please listen to the recorded message and foll...  security   \n",
       "1  To perform a secure IVR transaction, you will ...  security   \n",
       "2  An IVR password can be requested only from the...  security   \n",
       "3  Please call our Customer Service Centre and en...  security   \n",
       "4  By Sending SMS request: Send an SMS 'PWD<space...  security   \n",
       "5  No, each IVR password can be used only for a m...  security   \n",
       "6  No, only one IVR password can be generated at ...  security   \n",
       "7  There is no registration process. However you ...  security   \n",
       "8  To make telephonic (IVR) transactions more sec...  security   \n",
       "9  IVR 3D Secure password is delivered instantly....  security   \n",
       "\n",
       "                                           embedding  similarities  \n",
       "0  [0.009293698705732822, -0.03084607608616352, 0...      0.410012  \n",
       "1  [-0.00970387365669012, -0.018280930817127228, ...      0.659425  \n",
       "2  [-0.01753336936235428, -0.038931239396333694, ...      0.711325  \n",
       "3  [-0.0282317902892828, 0.01619480364024639, 0.0...      0.729861  \n",
       "4  [-0.025099100545048714, -0.007126737851649523,...      0.867408  \n",
       "5  [0.0007861416088417172, -0.03542797267436981, ...      0.697354  \n",
       "6  [0.004773120861500502, -0.030521269887685776, ...      0.718223  \n",
       "7  [-0.017454277724027634, -0.004589803051203489,...      0.807110  \n",
       "8  [-0.026408161967992783, -0.007872556336224079,...      0.810158  \n",
       "9  [0.02888462133705616, 0.015391342341899872, 0....      0.647869  "
      ]
     },
     "execution_count": 4,
     "metadata": {},
     "output_type": "execute_result"
    }
   ],
   "source": [
    "res"
   ]
  },
  {
   "cell_type": "code",
   "execution_count": 5,
   "metadata": {
    "ExecuteTime": {
     "end_time": "2024-03-30T12:18:36.342121Z",
     "start_time": "2024-03-30T12:18:36.336740Z"
    },
    "jupyter": {
     "outputs_hidden": false
    }
   },
   "outputs": [
    {
     "data": {
      "text/plain": [
       "Unnamed: 0                                                      4\n",
       "Question                        How can I obtain an IVR Password \n",
       "Answer          By Sending SMS request: Send an SMS 'PWD<space...\n",
       "Class                                                    security\n",
       "embedding       [-0.025099100545048714, -0.007126737851649523,...\n",
       "similarities                                             0.867408\n",
       "Name: 4, dtype: object"
      ]
     },
     "execution_count": 5,
     "metadata": {},
     "output_type": "execute_result"
    }
   ],
   "source": [
    "\n",
    "res.sort_values(by='similarities').iloc[-1]"
   ]
  },
  {
   "cell_type": "code",
   "execution_count": null,
   "metadata": {},
   "outputs": [],
   "source": []
  },
  {
   "cell_type": "code",
   "execution_count": null,
   "metadata": {},
   "outputs": [],
   "source": []
  },
  {
   "cell_type": "code",
   "execution_count": null,
   "metadata": {},
   "outputs": [],
   "source": []
  },
  {
   "cell_type": "code",
   "execution_count": null,
   "metadata": {},
   "outputs": [],
   "source": []
  },
  {
   "cell_type": "code",
   "execution_count": 2,
   "metadata": {},
   "outputs": [
    {
     "name": "stdout",
     "output_type": "stream",
     "text": [
      "Collecting flask\n",
      "  Downloading flask-3.0.3-py3-none-any.whl.metadata (3.2 kB)\n",
      "Collecting Werkzeug>=3.0.0 (from flask)\n",
      "  Downloading werkzeug-3.0.2-py3-none-any.whl.metadata (4.1 kB)\n",
      "Requirement already satisfied: Jinja2>=3.1.2 in /home/np_1961/anaconda3/envs/ai/lib/python3.11/site-packages (from flask) (3.1.3)\n",
      "Collecting itsdangerous>=2.1.2 (from flask)\n",
      "  Using cached itsdangerous-2.1.2-py3-none-any.whl.metadata (2.9 kB)\n",
      "Requirement already satisfied: click>=8.1.3 in /home/np_1961/anaconda3/envs/ai/lib/python3.11/site-packages (from flask) (8.1.7)\n",
      "Collecting blinker>=1.6.2 (from flask)\n",
      "  Using cached blinker-1.7.0-py3-none-any.whl.metadata (1.9 kB)\n",
      "Requirement already satisfied: MarkupSafe>=2.0 in /home/np_1961/anaconda3/envs/ai/lib/python3.11/site-packages (from Jinja2>=3.1.2->flask) (2.1.3)\n",
      "Downloading flask-3.0.3-py3-none-any.whl (101 kB)\n",
      "\u001b[2K   \u001b[38;2;114;156;31m━━━━━━━━━━━━━━━━━━━━━━━━━━━━━━━━━━━━━━━\u001b[0m \u001b[32m101.7/101.7 kB\u001b[0m \u001b[31m389.9 kB/s\u001b[0m eta \u001b[36m0:00:00\u001b[0m kB/s\u001b[0m eta \u001b[36m0:00:01\u001b[0m\n",
      "\u001b[?25hUsing cached blinker-1.7.0-py3-none-any.whl (13 kB)\n",
      "Using cached itsdangerous-2.1.2-py3-none-any.whl (15 kB)\n",
      "Downloading werkzeug-3.0.2-py3-none-any.whl (226 kB)\n",
      "\u001b[2K   \u001b[38;2;114;156;31m━━━━━━━━━━━━━━━━━━━━━━━━━━━━━━━━━━━━━━━━\u001b[0m \u001b[32m226.8/226.8 kB\u001b[0m \u001b[31m1.1 MB/s\u001b[0m eta \u001b[36m0:00:00\u001b[0mm eta \u001b[36m0:00:01\u001b[0m0:01\u001b[0m:01\u001b[0m\n",
      "\u001b[?25hInstalling collected packages: Werkzeug, itsdangerous, blinker, flask\n",
      "Successfully installed Werkzeug-3.0.2 blinker-1.7.0 flask-3.0.3 itsdangerous-2.1.2\n"
     ]
    }
   ],
   "source": [
    "!pip install flask"
   ]
  },
  {
   "cell_type": "code",
   "execution_count": null,
   "metadata": {},
   "outputs": [],
   "source": []
  },
  {
   "cell_type": "code",
   "execution_count": null,
   "metadata": {},
   "outputs": [],
   "source": []
  },
  {
   "cell_type": "code",
   "execution_count": 3,
   "metadata": {
    "ExecuteTime": {
     "end_time": "2024-03-30T12:18:36.655043Z",
     "start_time": "2024-03-30T12:18:36.652511Z"
    },
    "jupyter": {
     "outputs_hidden": false
    }
   },
   "outputs": [
    {
     "name": "stdout",
     "output_type": "stream",
     "text": [
      " * Serving Flask app '__main__'\n",
      " * Debug mode: on\n"
     ]
    },
    {
     "name": "stderr",
     "output_type": "stream",
     "text": [
      "WARNING: This is a development server. Do not use it in a production deployment. Use a production WSGI server instead.\n",
      " * Running on http://127.0.0.1:5000\n",
      "Press CTRL+C to quit\n",
      " * Restarting with stat\n",
      "0.00s - Debugger warning: It seems that frozen modules are being used, which may\n",
      "0.00s - make the debugger miss breakpoints. Please pass -Xfrozen_modules=off\n",
      "0.00s - to python to disable frozen modules.\n",
      "0.00s - Note: Debugging will proceed. Set PYDEVD_DISABLE_FILE_VALIDATION=1 to disable this validation.\n",
      "Traceback (most recent call last):\n",
      "  File \"<frozen runpy>\", line 198, in _run_module_as_main\n",
      "  File \"<frozen runpy>\", line 88, in _run_code\n",
      "  File \"/home/np_1961/anaconda3/envs/ai/lib/python3.11/site-packages/ipykernel_launcher.py\", line 17, in <module>\n",
      "    app.launch_new_instance()\n",
      "  File \"/home/np_1961/anaconda3/envs/ai/lib/python3.11/site-packages/traitlets/config/application.py\", line 991, in launch_instance\n",
      "    app.initialize(argv)\n",
      "  File \"/home/np_1961/anaconda3/envs/ai/lib/python3.11/site-packages/traitlets/config/application.py\", line 113, in inner\n",
      "    return method(app, *args, **kwargs)\n",
      "           ^^^^^^^^^^^^^^^^^^^^^^^^^^^^\n",
      "  File \"/home/np_1961/anaconda3/envs/ai/lib/python3.11/site-packages/ipykernel/kernelapp.py\", line 654, in initialize\n",
      "    self.init_sockets()\n",
      "  File \"/home/np_1961/anaconda3/envs/ai/lib/python3.11/site-packages/ipykernel/kernelapp.py\", line 331, in init_sockets\n",
      "    self.shell_port = self._bind_socket(self.shell_socket, self.shell_port)\n",
      "                      ^^^^^^^^^^^^^^^^^^^^^^^^^^^^^^^^^^^^^^^^^^^^^^^^^^^^^\n",
      "  File \"/home/np_1961/anaconda3/envs/ai/lib/python3.11/site-packages/ipykernel/kernelapp.py\", line 253, in _bind_socket\n",
      "    return self._try_bind_socket(s, port)\n",
      "           ^^^^^^^^^^^^^^^^^^^^^^^^^^^^^^\n",
      "  File \"/home/np_1961/anaconda3/envs/ai/lib/python3.11/site-packages/ipykernel/kernelapp.py\", line 229, in _try_bind_socket\n",
      "    s.bind(\"tcp://%s:%i\" % (self.ip, port))\n",
      "  File \"/home/np_1961/anaconda3/envs/ai/lib/python3.11/site-packages/zmq/sugar/socket.py\", line 232, in bind\n",
      "    super().bind(addr)\n",
      "  File \"zmq/backend/cython/socket.pyx\", line 568, in zmq.backend.cython.socket.Socket.bind\n",
      "  File \"zmq/backend/cython/checkrc.pxd\", line 28, in zmq.backend.cython.checkrc._check_rc\n",
      "zmq.error.ZMQError: Address already in use\n"
     ]
    },
    {
     "ename": "SystemExit",
     "evalue": "1",
     "output_type": "error",
     "traceback": [
      "An exception has occurred, use %tb to see the full traceback.\n",
      "\u001b[0;31mSystemExit\u001b[0m\u001b[0;31m:\u001b[0m 1\n"
     ]
    }
   ],
   "source": [
    "\n",
    "from flask import Flask, jsonify, request\n",
    "from helpers import RAG\n",
    "\n",
    "chatbot = RAG()\n",
    "app = Flask(__name__)\n",
    "\n",
    "@app.route('/load_model', methods=['POST'])\n",
    "def load_model():\n",
    "    \"\"\"\n",
    "    No input\n",
    "    \"\"\"\n",
    "\n",
    "    res = chatbot.embedding.load_embeddings(amount=3)\n",
    "    return jsonify(res)\n",
    "\n",
    "@app.route('/search', methods=['POST'])\n",
    "def search():\n",
    "    \"\"\"\n",
    "    input_question - str\n",
    "    \"\"\"\n",
    "\n",
    "    if \"input_question\" not in request.form:\n",
    "        return jsonify({\n",
    "            \"status\": 500, \"message\": \"input_question not defined\"}), 500\n",
    "    input_question = request.form['input_question']\n",
    "    res = chatbot.embedding.ask_question(input_question=input_question)\n",
    "    return jsonify(res)\n",
    "\n",
    "\n",
    "@app.route('/search_and_generate', methods=['POST'])\n",
    "def llm_generate():\n",
    "    \"\"\"\n",
    "    input_question - str\n",
    "    \"\"\"\n",
    "\n",
    "    if \"input_question\" not in request.files:\n",
    "        return jsonify({\n",
    "            \"status\": 500, \"message\": \"input_question not defined\"}), 500\n",
    "    input_question = request.files['input_question'].readlines()\n",
    "\n",
    "    res = chatbot.embedding.ask_question(input_question=input_question)\n",
    "    return jsonify(res)\n",
    "\n",
    "    #TODO\n",
    "    # add llm model gpt3.5\n",
    "\n",
    "    return \"<h1>Not implemented</h1>\"\n",
    "\n",
    "\n",
    "@app.route('/document_search', methods=['POST'])\n",
    "def document_search():\n",
    "    \"\"\"\n",
    "    input_question - str\n",
    "    \"\"\"\n",
    "\n",
    "    # request.files\n",
    "    return \"<h1>Not implemented</h1>\"\n",
    "\n",
    "\n",
    "@app.route('/', methods=['GET'])\n",
    "def start():\n",
    "    return \"<h1>Hello this is FAQ api</h1>\"\n",
    "\n",
    "\n",
    "if __name__ == '__main__':\n",
    "    app.run(debug=True)\n"
   ]
  },
  {
   "cell_type": "code",
   "execution_count": null,
   "metadata": {},
   "outputs": [],
   "source": []
  }
 ],
 "metadata": {
  "kernelspec": {
   "display_name": "Python 3 (ipykernel)",
   "language": "python",
   "name": "python3"
  },
  "language_info": {
   "codemirror_mode": {
    "name": "ipython",
    "version": 3
   },
   "file_extension": ".py",
   "mimetype": "text/x-python",
   "name": "python",
   "nbconvert_exporter": "python",
   "pygments_lexer": "ipython3",
   "version": "3.11.9"
  }
 },
 "nbformat": 4,
 "nbformat_minor": 4
}
